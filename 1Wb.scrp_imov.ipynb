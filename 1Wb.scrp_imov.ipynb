{
 "cells": [
  {
   "cell_type": "code",
   "execution_count": 8,
   "id": "8d37590e-ecb8-4117-b2a4-b5a909919e67",
   "metadata": {},
   "outputs": [],
   "source": [
    "import requests\n",
    "from bs4 import BeautifulSoup"
   ]
  },
  {
   "cell_type": "code",
   "execution_count": 11,
   "id": "60a5404b-06c8-4f46-8349-59b576c41802",
   "metadata": {},
   "outputs": [],
   "source": [
    "url ='https://imoveis.mercadolivre.com.br/distrito-federal/im%C3%B3veis_NoIndex_True#applied_filter_id%3Dstate%26applied_filter_name%3DLocaliza%C3%A7%C3%A3o%26applied_filter_order%3D4%26applied_value_id%3DTUxCUERJU0wxMWJhYg%26applied_value_name%3DDistrito+Federal%26applied_value_order%3D5%26applied_value_results%3D1807%26is_custom%3Dfalse'"
   ]
  },
  {
   "cell_type": "code",
   "execution_count": 12,
   "id": "39328370-4058-415c-9956-0f4e96246b36",
   "metadata": {},
   "outputs": [],
   "source": [
    "response = requests.get(url)"
   ]
  },
  {
   "cell_type": "code",
   "execution_count": 13,
   "id": "8150450d-e13a-4b0f-ae01-a5a8b2328fae",
   "metadata": {},
   "outputs": [],
   "source": [
    "soup = BeautifulSoup(response.content)"
   ]
  },
  {
   "cell_type": "code",
   "execution_count": 15,
   "id": "b0d34d77-077f-4a27-93f4-2cff9f3df59b",
   "metadata": {},
   "outputs": [],
   "source": [
    "lista_de_precos = soup.find_all('span',class_=\"price-tag-fraction\")\n",
    "lista_de_precos = [w.text for w in lista_de_precos]"
   ]
  },
  {
   "cell_type": "code",
   "execution_count": 17,
   "id": "2f8325df-3398-45fc-9f8e-1260b470c722",
   "metadata": {},
   "outputs": [],
   "source": [
    "lista_de_endereços = soup.find_all('span', class_=\"ui-search-item__group__element ui-search-item__location\")\n",
    "lista_de_endereços = [w.text for w in lista_de_endereços]"
   ]
  },
  {
   "cell_type": "code",
   "execution_count": 48,
   "id": "3cf7f539-adcf-4dbf-a8a8-a77714e310a9",
   "metadata": {},
   "outputs": [],
   "source": [
    "area_quartos = soup.find_all('ul',class_='ui-search-card-attributes ui-search-item__group__element')"
   ]
  },
  {
   "cell_type": "code",
   "execution_count": 49,
   "id": "dfa5e6a0-47c9-4ec5-bd70-e15664a0e82c",
   "metadata": {},
   "outputs": [],
   "source": [
    "area = [w.find_all(\"li\")[0].text for w in area_quartos]\n",
    "quartos = [w.find_all(\"li\")[1].text if len(w.find_all(\"li\"))>=2 else \"sem_quartos\" for w in area_quartos]"
   ]
  },
  {
   "cell_type": "code",
   "execution_count": 34,
   "id": "fa1810c6-eed2-463a-a2f2-708b8bef0a65",
   "metadata": {
    "collapsed": true,
    "jupyter": {
     "outputs_hidden": true
    },
    "tags": []
   },
   "outputs": [
    {
     "data": {
      "text/plain": [
       "['400 m² construídos4 quartos',\n",
       " '27 m² construídos',\n",
       " '290 m² construídos4 quartos',\n",
       " '72 m² construídos2 quartos',\n",
       " '62 m² construídos3 quartos',\n",
       " '320 m² construídos3 quartos',\n",
       " '75 m² construídos3 quartos',\n",
       " '27 m² construídos',\n",
       " '27 m² construídos',\n",
       " '33 m² construídos1 quarto',\n",
       " '33 m² construídos1 quarto',\n",
       " '200 m² totais3 quartos',\n",
       " '9,556 m² construídos',\n",
       " '109 m² construídos3 quartos',\n",
       " '750 m² construídos4 quartos',\n",
       " '26 m² construídos1 quarto',\n",
       " '75 m² totais3 quartos',\n",
       " '196 m² construídos4 quartos',\n",
       " '200 m² construídos6 quartos',\n",
       " '152 m² construídos4 quartos',\n",
       " '53 m² construídos2 quartos',\n",
       " '36 m² construídos',\n",
       " '74 m² construídos2 quartos',\n",
       " '27 m² construídos',\n",
       " '135 m² construídos4 quartos',\n",
       " '12 m² construídos',\n",
       " '2,000 m² construídos',\n",
       " '185 m² construídos3 quartos',\n",
       " '52 m² construídos2 quartos',\n",
       " '103 m² construídos3 quartos',\n",
       " '194 m² construídos4 quartos',\n",
       " '37 m² construídos1 quarto',\n",
       " '300 m² totais',\n",
       " '2,500 m² construídos2 quartos',\n",
       " '126 m² construídos2 quartos',\n",
       " '190 m² construídos2 quartos',\n",
       " '180 m² construídos6 quartos',\n",
       " '200 m² construídos2 quartos',\n",
       " '102 m² construídos3 quartos',\n",
       " '150 m² construídos2 quartos',\n",
       " '100 m² construídos3 quartos',\n",
       " '250 m² construídos3 quartos',\n",
       " '98 m² construídos1 quarto',\n",
       " '186 m² totais',\n",
       " '180 m² construídos2 quartos',\n",
       " '320 m² construídos4 quartos',\n",
       " '84 m² construídos3 quartos',\n",
       " '48 m² construídos1 quarto',\n",
       " '200 m² construídos2 quartos',\n",
       " '59 m² construídos2 quartos']"
      ]
     },
     "execution_count": 34,
     "metadata": {},
     "output_type": "execute_result"
    }
   ],
   "source": [
    "area_quartos"
   ]
  },
  {
   "cell_type": "code",
   "execution_count": 50,
   "id": "c541a624-45af-4ceb-bbac-aa1c17aa7d2c",
   "metadata": {
    "collapsed": true,
    "jupyter": {
     "outputs_hidden": true
    },
    "tags": []
   },
   "outputs": [
    {
     "data": {
      "text/plain": [
       "['400 m² construídos',\n",
       " '27 m² construídos',\n",
       " '290 m² construídos',\n",
       " '72 m² construídos',\n",
       " '62 m² construídos',\n",
       " '320 m² construídos',\n",
       " '75 m² construídos',\n",
       " '27 m² construídos',\n",
       " '27 m² construídos',\n",
       " '33 m² construídos',\n",
       " '33 m² construídos',\n",
       " '200 m² totais',\n",
       " '9,556 m² construídos',\n",
       " '109 m² construídos',\n",
       " '750 m² construídos',\n",
       " '26 m² construídos',\n",
       " '75 m² totais',\n",
       " '196 m² construídos',\n",
       " '200 m² construídos',\n",
       " '152 m² construídos',\n",
       " '53 m² construídos',\n",
       " '36 m² construídos',\n",
       " '74 m² construídos',\n",
       " '27 m² construídos',\n",
       " '135 m² construídos',\n",
       " '12 m² construídos',\n",
       " '2,000 m² construídos',\n",
       " '185 m² construídos',\n",
       " '52 m² construídos',\n",
       " '103 m² construídos',\n",
       " '194 m² construídos',\n",
       " '37 m² construídos',\n",
       " '300 m² totais',\n",
       " '2,500 m² construídos',\n",
       " '126 m² construídos',\n",
       " '190 m² construídos',\n",
       " '180 m² construídos',\n",
       " '200 m² construídos',\n",
       " '102 m² construídos',\n",
       " '150 m² construídos',\n",
       " '100 m² construídos',\n",
       " '250 m² construídos',\n",
       " '98 m² construídos',\n",
       " '186 m² totais',\n",
       " '180 m² construídos',\n",
       " '320 m² construídos',\n",
       " '84 m² construídos',\n",
       " '48 m² construídos',\n",
       " '200 m² construídos',\n",
       " '59 m² construídos']"
      ]
     },
     "execution_count": 50,
     "metadata": {},
     "output_type": "execute_result"
    }
   ],
   "source": [
    "area"
   ]
  },
  {
   "cell_type": "code",
   "execution_count": 51,
   "id": "b83d52b6-4881-4efe-a9d4-a2db4cbe647b",
   "metadata": {
    "collapsed": true,
    "jupyter": {
     "outputs_hidden": true
    },
    "tags": []
   },
   "outputs": [
    {
     "data": {
      "text/plain": [
       "['4 quartos',\n",
       " 'sem_quartos',\n",
       " '4 quartos',\n",
       " '2 quartos',\n",
       " '3 quartos',\n",
       " '3 quartos',\n",
       " '3 quartos',\n",
       " 'sem_quartos',\n",
       " 'sem_quartos',\n",
       " '1 quarto',\n",
       " '1 quarto',\n",
       " '3 quartos',\n",
       " 'sem_quartos',\n",
       " '3 quartos',\n",
       " '4 quartos',\n",
       " '1 quarto',\n",
       " '3 quartos',\n",
       " '4 quartos',\n",
       " '6 quartos',\n",
       " '4 quartos',\n",
       " '2 quartos',\n",
       " 'sem_quartos',\n",
       " '2 quartos',\n",
       " 'sem_quartos',\n",
       " '4 quartos',\n",
       " 'sem_quartos',\n",
       " 'sem_quartos',\n",
       " '3 quartos',\n",
       " '2 quartos',\n",
       " '3 quartos',\n",
       " '4 quartos',\n",
       " '1 quarto',\n",
       " 'sem_quartos',\n",
       " '2 quartos',\n",
       " '2 quartos',\n",
       " '2 quartos',\n",
       " '6 quartos',\n",
       " '2 quartos',\n",
       " '3 quartos',\n",
       " '2 quartos',\n",
       " '3 quartos',\n",
       " '3 quartos',\n",
       " '1 quarto',\n",
       " 'sem_quartos',\n",
       " '2 quartos',\n",
       " '4 quartos',\n",
       " '3 quartos',\n",
       " '1 quarto',\n",
       " '2 quartos',\n",
       " '2 quartos']"
      ]
     },
     "execution_count": 51,
     "metadata": {},
     "output_type": "execute_result"
    }
   ],
   "source": [
    "quartos"
   ]
  },
  {
   "cell_type": "code",
   "execution_count": 54,
   "id": "d9d61266-0a44-463e-ae3f-efc521acf7b7",
   "metadata": {},
   "outputs": [],
   "source": [
    "proxima_pag = (soup.find(\"a\", title='Seguinte')['href'])"
   ]
  },
  {
   "cell_type": "code",
   "execution_count": null,
   "id": "5b8e8ad0-36e1-4b73-ab8b-d68aa3734f3b",
   "metadata": {},
   "outputs": [],
   "source": []
  }
 ],
 "metadata": {
  "kernelspec": {
   "display_name": "Python 3",
   "language": "python",
   "name": "python3"
  },
  "language_info": {
   "codemirror_mode": {
    "name": "ipython",
    "version": 3
   },
   "file_extension": ".py",
   "mimetype": "text/x-python",
   "name": "python",
   "nbconvert_exporter": "python",
   "pygments_lexer": "ipython3",
   "version": "3.8.8"
  },
  "toc-showcode": true,
  "toc-showtags": true
 },
 "nbformat": 4,
 "nbformat_minor": 5
}
